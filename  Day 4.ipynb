{
 "cells": [
  {
   "cell_type": "markdown",
   "metadata": {},
   "source": [
    "# Map, Filter, Reduce, Lambda & Recursion"
   ]
  },
  {
   "cell_type": "markdown",
   "metadata": {},
   "source": [
    "## Tasks Today:\n",
    "\n",
    "1) <b>Lambda Functions</b> <br>\n",
    " &nbsp;&nbsp;&nbsp;&nbsp; a) Syntax <br>\n",
    " &nbsp;&nbsp;&nbsp;&nbsp; b) Saving to a Variable <br>\n",
    " &nbsp;&nbsp;&nbsp;&nbsp; c) Multiple Inputs <br>\n",
    " &nbsp;&nbsp;&nbsp;&nbsp; d) Passing a Lambda into a Function <br>\n",
    " &nbsp;&nbsp;&nbsp;&nbsp; e) Returning a Lambda from a Function <br>\n",
    " &nbsp;&nbsp;&nbsp;&nbsp; f) In-Class Exercise #1 <br>\n",
    "2) <b>Map</b> <br>\n",
    " &nbsp;&nbsp;&nbsp;&nbsp; a) Syntax <br>\n",
    " &nbsp;&nbsp;&nbsp;&nbsp; b) Using Lambda's with Map <br>\n",
    " &nbsp;&nbsp;&nbsp;&nbsp; c) In-Class Exercise #2 <br>\n",
    "3) <b>Filter</b> <br>\n",
    " &nbsp;&nbsp;&nbsp;&nbsp; a) Syntax <br>\n",
    " &nbsp;&nbsp;&nbsp;&nbsp; b) Using Lambda's with Filter <br>\n",
    " &nbsp;&nbsp;&nbsp;&nbsp; c) In-Class Exercise #3 <br>\n",
    "4) <b>Reduce</b> <br>\n",
    " &nbsp;&nbsp;&nbsp;&nbsp; a) Syntax <br>\n",
    " &nbsp;&nbsp;&nbsp;&nbsp; b) Using Lambda's with Reduce <br>\n",
    " &nbsp;&nbsp;&nbsp;&nbsp; c) In-Class Exercise #4 <br>\n",
    "5) <b>Recursion</b> <br>\n",
    " &nbsp;&nbsp;&nbsp;&nbsp; a) Implementing a Base <br>\n",
    " &nbsp;&nbsp;&nbsp;&nbsp; b) Writing a Factorial Function <br>\n",
    " &nbsp;&nbsp;&nbsp;&nbsp; c) In-Class Exercise #5 <br>\n",
    "6) <b>Generators & Iterators</b> <br>\n",
    " &nbsp;&nbsp;&nbsp;&nbsp; a) Yield Keyword <br>\n",
    " &nbsp;&nbsp;&nbsp;&nbsp; b) Inifinite Generator <br>\n",
    " &nbsp;&nbsp;&nbsp;&nbsp; c) In-Class Exercise #6 <br>\n",
    "7) <b>Exercises</b> <br>\n",
    " &nbsp;&nbsp;&nbsp;&nbsp; a) Exercise #1 - Filtering Empty Strings <br>\n",
    " &nbsp;&nbsp;&nbsp;&nbsp; b) Exercise #2 - Sorting with Last Name <br>\n",
    " &nbsp;&nbsp;&nbsp;&nbsp; c) Exercise #3 - Conversion to Farhenheit <br>\n",
    " &nbsp;&nbsp;&nbsp;&nbsp; d) Exercise #4 - Fibonacci Sequence <br>"
   ]
  },
  {
   "cell_type": "markdown",
   "metadata": {},
   "source": [
    "## Lambda Functions <br>\n",
    "<p>Lambda functions... or \"Anonymous Functions\" are referring to inline functions with no name. The keyword lambda denotes the no name function, and executes within a single line. Without saving it to a variable; however, it is not able to be used, unless passed in either as a paramater or within list comprehension.<br>Written as \"(keyword lambda) (one or more inputs) (colon) (function to be executed)\"</p>"
   ]
  },
  {
   "cell_type": "markdown",
   "metadata": {},
   "source": [
    "#### Syntax"
   ]
  },
  {
   "cell_type": "code",
   "execution_count": 1,
   "metadata": {},
   "outputs": [
    {
     "data": {
      "text/plain": [
       "<function __main__.<lambda>(x)>"
      ]
     },
     "execution_count": 1,
     "metadata": {},
     "output_type": "execute_result"
    }
   ],
   "source": [
    "lambda x: x**2"
   ]
  },
  {
   "cell_type": "code",
   "execution_count": 6,
   "metadata": {},
   "outputs": [
    {
     "data": {
      "text/plain": [
       "400"
      ]
     },
     "execution_count": 6,
     "metadata": {},
     "output_type": "execute_result"
    }
   ],
   "source": [
    "# can be used as a self_invoking function\n",
    "# a self-invoking function is a function who's definition calls itself\n",
    "(lambda x: x**2)(20)"
   ]
  },
  {
   "cell_type": "markdown",
   "metadata": {},
   "source": [
    "#### Saving to a Variable"
   ]
  },
  {
   "cell_type": "code",
   "execution_count": 3,
   "metadata": {},
   "outputs": [
    {
     "name": "stdout",
     "output_type": "stream",
     "text": [
      "<function <lambda> at 0x7fd4f5a674c0>\n"
     ]
    },
    {
     "data": {
      "text/plain": [
       "400"
      ]
     },
     "execution_count": 3,
     "metadata": {},
     "output_type": "execute_result"
    }
   ],
   "source": [
    "square = lambda x: x**2\n",
    "print(square)\n",
    "square(20)"
   ]
  },
  {
   "cell_type": "markdown",
   "metadata": {},
   "source": [
    "#### Multiple Inputs"
   ]
  },
  {
   "cell_type": "code",
   "execution_count": 4,
   "metadata": {},
   "outputs": [
    {
     "data": {
      "text/plain": [
       "10"
      ]
     },
     "execution_count": 4,
     "metadata": {},
     "output_type": "execute_result"
    }
   ],
   "source": [
    "add = lambda x, y: x+y\n",
    "add(4,6)"
   ]
  },
  {
   "cell_type": "code",
   "execution_count": 5,
   "metadata": {},
   "outputs": [
    {
     "data": {
      "text/plain": [
       "30"
      ]
     },
     "execution_count": 5,
     "metadata": {},
     "output_type": "execute_result"
    }
   ],
   "source": [
    "def add(x, y):\n",
    "    return x+y\n",
    "add(10, 20)"
   ]
  },
  {
   "cell_type": "code",
   "execution_count": 7,
   "metadata": {},
   "outputs": [
    {
     "data": {
      "text/plain": [
       "'catdog'"
      ]
     },
     "execution_count": 7,
     "metadata": {},
     "output_type": "execute_result"
    }
   ],
   "source": [
    "# self_invoking version\n",
    "(lambda x,y: x+y)('cat', 'dog')"
   ]
  },
  {
   "cell_type": "markdown",
   "metadata": {},
   "source": [
    "#### Passing a Lambda into a Function"
   ]
  },
  {
   "cell_type": "code",
   "execution_count": 12,
   "metadata": {},
   "outputs": [
    {
     "data": {
      "text/plain": [
       "[{'name': 'Orca', 'color': 'black and white'},\n",
       " {'name': 'Fennec Fox', 'color': 'brown'},\n",
       " {'name': 'Flamingo', 'color': 'pink'},\n",
       " {'name': 'Peacock', 'color': 'rainbow'}]"
      ]
     },
     "execution_count": 12,
     "metadata": {},
     "output_type": "execute_result"
    }
   ],
   "source": [
    "# with built-ins - sorted()\n",
    "animals = [{'name':'Fennec Fox', 'color':'brown'},{'name':'Orca', 'color':'black and white'},{'name':'Flamingo', 'color':'pink'},{'name':'Peacock', 'color':'rainbow'}]\n",
    "# sorted(animals) # uh oh... we can't directly sort a list of dictionaries......\n",
    "sorted(animals, key=lambda dct: dct['color'])\n",
    "# use the value at the dictionary's name key to decide the sorting order\n"
   ]
  },
  {
   "cell_type": "code",
   "execution_count": 14,
   "metadata": {},
   "outputs": [
    {
     "data": {
      "text/plain": [
       "45"
      ]
     },
     "execution_count": 14,
     "metadata": {},
     "output_type": "execute_result"
    }
   ],
   "source": [
    "# user defined case (Less common to use, decidely niche)\n",
    "def executeF(f, num):\n",
    "    \"\"\"\n",
    "    f expects a lambda function\n",
    "    num expects a number\n",
    "        \n",
    "    \"\"\"\n",
    "    return f(num)\n",
    "\n",
    "executeF(lambda x: x*15, 3)"
   ]
  },
  {
   "cell_type": "code",
   "execution_count": 15,
   "metadata": {},
   "outputs": [],
   "source": [
    "#### Returning Lambda from a function"
   ]
  },
  {
   "cell_type": "code",
   "execution_count": 21,
   "metadata": {},
   "outputs": [
    {
     "name": "stdout",
     "output_type": "stream",
     "text": [
      "<function returnFunc.<locals>.multiply at 0x7fd4f5b1c040>\n",
      "30\n",
      "<function returnLambda.<locals>.<lambda> at 0x7fd4f5b1c280>\n",
      "<function returnLambda.<locals>.<lambda> at 0x7fd4f5b1c790>\n",
      "61000125\n",
      "145\n"
     ]
    }
   ],
   "source": [
    "# regular defined funcion\n",
    "def multiply_normal(num):\n",
    "    return num * 4\n",
    "\n",
    "# function defined within a function\n",
    "def returnFunc():\n",
    "    def multiply(num):\n",
    "        return num*2\n",
    "    return multiply\n",
    "\n",
    "f_return = returnFunc()\n",
    "print(f_return)\n",
    "print(f_return(15))\n",
    "\n",
    "# Lambda funtion returned from a regular function\n",
    "def returnLambda(b,c):\n",
    "    return lambda x,y: x + y + b + c\n",
    "\n",
    "# set up different behaviors of the lambda function based on an initial call to the outer returnLambda function\n",
    "# setup A\n",
    "bigAdds = returnLambda(6000000, 55000000)\n",
    "print(bigAdds)\n",
    "smallAdds = returnLambda(17,3)\n",
    "print(smallAdds)\n",
    "\n",
    "print(bigAdds(50, 75))\n",
    "print(smallAdds(50, 75))"
   ]
  },
  {
   "cell_type": "markdown",
   "metadata": {},
   "source": [
    "#### If Statements within Lambdas"
   ]
  },
  {
   "cell_type": "code",
   "execution_count": 24,
   "metadata": {},
   "outputs": [
    {
     "name": "stdout",
     "output_type": "stream",
     "text": [
      "Even\n",
      "Odd\n"
     ]
    }
   ],
   "source": [
    "# shorthand if else structure can be used in a return statement\n",
    "# split into two seperate return options\n",
    "# Lambda <parameters>: <value_to_return_if_true> if <conditional> else <value_to_return_if_false>\n",
    "\n",
    "evenorodd = lambda num: 'Even' if num%2==0 else 'Odd'\n",
    "\n",
    "print(evenorodd(571029387642))\n",
    "print(evenorodd(1))"
   ]
  },
  {
   "cell_type": "code",
   "execution_count": null,
   "metadata": {},
   "outputs": [],
   "source": [
    "# if <condition>:\n",
    "#     <value>\n",
    "# else:\n",
    "#     <other value>"
   ]
  },
  {
   "cell_type": "markdown",
   "metadata": {},
   "source": [
    "#### In-Class Exercise #1 <br>\n",
    "<p>Write an anonymous function that cubes the arguments passed in and assign the anonymous function to a variable 'f'.</p>"
   ]
  },
  {
   "cell_type": "code",
   "execution_count": 26,
   "metadata": {},
   "outputs": [
    {
     "data": {
      "text/plain": [
       "1000000"
      ]
     },
     "execution_count": 26,
     "metadata": {},
     "output_type": "execute_result"
    }
   ],
   "source": [
    "f = lambda x: x**3 \n",
    "f(100)"
   ]
  },
  {
   "cell_type": "markdown",
   "metadata": {},
   "source": [
    "## Map <br>\n",
    "<p>The map function allows you to iterate over an entire list while running a function on each item of the list. This is why the map function works well with lambda's, because it simplifies things and you write less lines of code.<br>The syntax for a map function is \"map(function to be used, list to be used)\"<br>However, you must be careful, as the map function returns a map object, not a list. To turn it into a list we use the list() type conversion.</p>"
   ]
  },
  {
   "cell_type": "markdown",
   "metadata": {},
   "source": [
    "#### Syntax"
   ]
  },
  {
   "cell_type": "code",
   "execution_count": 28,
   "metadata": {},
   "outputs": [
    {
     "name": "stdout",
     "output_type": "stream",
     "text": [
      "['FENNEC FOX', 'SIBERIAN TIGER', 'AUSTRALIAN GOOSE', 'MADAGASCAR MOOSE', 'CANADIAN GOOSE']\n"
     ]
    }
   ],
   "source": [
    "animals = ['fennec fox', 'siberian tiger', 'australian goose', 'madagascar moose', 'canadian goose']\n",
    "capitalized = []\n",
    "for a in animals:\n",
    "    capitalized.append(a.upper())\n",
    "print(capitalized)"
   ]
  },
  {
   "cell_type": "code",
   "execution_count": 33,
   "metadata": {},
   "outputs": [
    {
     "ename": "SyntaxError",
     "evalue": "invalid syntax (2365065434.py, line 2)",
     "output_type": "error",
     "traceback": [
      "\u001b[0;36m  File \u001b[0;32m\"/var/folders/ns/78zmwrvj0qv7_5q8gwsxnv8w0000gn/T/ipykernel_51399/2365065434.py\"\u001b[0;36m, line \u001b[0;32m2\u001b[0m\n\u001b[0;31m    capitalized = map(str.title '/n', animals)\u001b[0m\n\u001b[0m                                ^\u001b[0m\n\u001b[0;31mSyntaxError\u001b[0m\u001b[0;31m:\u001b[0m invalid syntax\n"
     ]
    }
   ],
   "source": [
    "# same thing but with a map\n",
    "capitalized = map(str.title , animals)\n",
    "print(capitalized)\n",
    "capitalized = list(capitalized)\n",
    "print(capitalized)"
   ]
  },
  {
   "cell_type": "markdown",
   "metadata": {},
   "source": [
    "#### Using Lambda's with Map"
   ]
  },
  {
   "cell_type": "code",
   "execution_count": 35,
   "metadata": {},
   "outputs": [
    {
     "name": "stdout",
     "output_type": "stream",
     "text": [
      "[(16, 16), (11, 3), (20, 10), (3, 32), (15, 6), (20, 2)]\n"
     ]
    }
   ],
   "source": [
    "# non Lambda version\n",
    "def squareUnderTen(num1, num2):\n",
    "    if num1 < 10 and num2 < 10:\n",
    "        return num1**2, num2**2\n",
    "    else:\n",
    "        return num1, num2\n",
    "nums = [4, 11, 20, 3, 15, 20]\n",
    "more_nums = [4, 3, 10, 32, 6, 2]\n",
    "\n",
    "squared_numbers_map = list(map(squareUnderTen, nums, more_nums))\n",
    "print(squared_numbers_map)"
   ]
  },
  {
   "cell_type": "code",
   "execution_count": 37,
   "metadata": {},
   "outputs": [
    {
     "data": {
      "text/plain": [
       "[(16, 16), (11, 3), (20, 10), (3, 32), (15, 6), (20, 2)]"
      ]
     },
     "execution_count": 37,
     "metadata": {},
     "output_type": "execute_result"
    }
   ],
   "source": [
    "squared_numbers_map = list(map(lambda num1, num2: (num1**2, num2**2) if num1 <10 and num2 <10 else (num1, num2), nums, more_nums))\n",
    "squared_numbers_map"
   ]
  },
  {
   "cell_type": "code",
   "execution_count": 36,
   "metadata": {},
   "outputs": [
    {
     "name": "stdout",
     "output_type": "stream",
     "text": [
      "['Manchester City', 'Booo', 'Stoke City', 'Booo', 'Booo', 'Hull City', 'Booo']\n"
     ]
    }
   ],
   "source": [
    "teams = ['Manchester City', 'Manchester United', 'Stoke City', 'West Ham', 'Chelsea', 'Hull City', 'Birmingham Rovers']\n",
    "\n",
    "# I want a list of the team name if the team name contains 'City' or 'Booo' if it doesnt.\n",
    "func = lambda name: name if 'City' in name else 'Booo'\n",
    "\n",
    "city_teams = list(map(func, teams))\n",
    "print(city_teams)"
   ]
  },
  {
   "cell_type": "markdown",
   "metadata": {},
   "source": [
    "#### In-Class Exercise #2 <br>\n",
    "<p>Use the map function to double each number and minus it by one in the list by using a lambda function</p>"
   ]
  },
  {
   "cell_type": "code",
   "execution_count": 42,
   "metadata": {},
   "outputs": [
    {
     "name": "stdout",
     "output_type": "stream",
     "text": [
      "[1, 3, 5, 7, 9]\n"
     ]
    }
   ],
   "source": [
    "numbs = [1,2,3,4,5]\n",
    "lambda x: x*2-1\n",
    "times_two_minus_one = list(map(lambda x: x*2-1, numbs))\n",
    "print(times_two_minus_one)"
   ]
  },
  {
   "cell_type": "markdown",
   "metadata": {},
   "source": [
    "## Filter() <br>\n",
    "<p>Filter's are similar to the map function, where you're able to pass a function argument and a list argument and filter out something from the list based on the conditions passed. Similar to the map function, it returns a filter object, so you need to type convert it to a list()</p>"
   ]
  },
  {
   "cell_type": "markdown",
   "metadata": {},
   "source": [
    "#### Syntax"
   ]
  },
  {
   "cell_type": "code",
   "execution_count": 1,
   "metadata": {},
   "outputs": [
    {
     "name": "stdout",
     "output_type": "stream",
     "text": [
      "['Manchester City', 'Stoke City', 'Hull City']\n"
     ]
    }
   ],
   "source": [
    "# filter(function, interable)\n",
    "teams = ['Manchester City', 'Manchester United', 'Stoke City', 'West Ham', 'Chelsea', 'Hull City', 'Birmingham Rovers']\n",
    "\n",
    "# the way a filter works is it looks for the provided functino returning false or somthing that evaluates to False\n",
    "# if the returned value evaluates to True -> the original item from the list is included in the new filter object\n",
    "# if the returned value evaluates to False -> the original item from the list is not included in the new filter object\n",
    "# so - the Lambda function for filtering should return False for any item not to be included in the new list\n",
    "\n",
    "# I want a list of the team name if the team name contains 'City' or 'Booo' if it doesnt.\n",
    "func = lambda name: True if 'City' in name else False\n",
    "\n",
    "city_teams = list(filter(func, teams))\n",
    "print(city_teams)"
   ]
  },
  {
   "cell_type": "markdown",
   "metadata": {},
   "source": [
    "#### Using Lambda's with Filter()"
   ]
  },
  {
   "cell_type": "code",
   "execution_count": 2,
   "metadata": {},
   "outputs": [
    {
     "data": {
      "text/plain": [
       "['Manchester City', 'Stoke City', 'Hull City']"
      ]
     },
     "execution_count": 2,
     "metadata": {},
     "output_type": "execute_result"
    }
   ],
   "source": [
    "# similar idea/same result as the following list comprehension\n",
    "\n",
    "city_teamsLC = [name for name in teams if 'City' in name]\n",
    "city_teamsLC"
   ]
  },
  {
   "cell_type": "markdown",
   "metadata": {},
   "source": [
    "#### In-Class Exercise #3 <br>\n",
    "<p>Filter out all the numbers that are below the mean of the list.<br><b>Hint: Import the 'statistics' module</b></p>"
   ]
  },
  {
   "cell_type": "code",
   "execution_count": 3,
   "metadata": {},
   "outputs": [
    {
     "name": "stdout",
     "output_type": "stream",
     "text": [
      "[1, 2, 4, 16, 5]\n"
     ]
    }
   ],
   "source": [
    "numbs = [1, 2, 32, 4, 45, 93, 72, 42, 16, 32, 5]\n",
    "from statistics import mean\n",
    "\n",
    "new_nums = list(filter(lambda x: True if x < mean(numbs) else False, numbs))\n",
    "print(new_nums)"
   ]
  },
  {
   "cell_type": "markdown",
   "metadata": {},
   "source": [
    "## Reduce() <br>\n",
    "<p>Be very careful when using this function, as of Python 3 it's been moved to the 'functools' library and no longer is a built-in function.<br>The creator of Python himself, says to just use a for loop instead.</p>"
   ]
  },
  {
   "cell_type": "markdown",
   "metadata": {},
   "source": [
    "#### Syntax"
   ]
  },
  {
   "cell_type": "code",
   "execution_count": null,
   "metadata": {},
   "outputs": [],
   "source": []
  },
  {
   "cell_type": "markdown",
   "metadata": {},
   "source": [
    "#### Using Lambda's with Reduce()"
   ]
  },
  {
   "cell_type": "code",
   "execution_count": null,
   "metadata": {},
   "outputs": [],
   "source": []
  },
  {
   "cell_type": "markdown",
   "metadata": {},
   "source": [
    "#### In-Class Exercise #4 <br>\n",
    "<p>Use the reduce function to multiply the numbers in the list below together with a lambda function.</p>"
   ]
  },
  {
   "cell_type": "code",
   "execution_count": null,
   "metadata": {},
   "outputs": [],
   "source": []
  },
  {
   "cell_type": "markdown",
   "metadata": {},
   "source": [
    "## Recursion <br>\n",
    "<p>Recursion means that a function is calling itself, so it contanstly executes until a base case is reached. It will then push the returning values back up the chain until the function is complete. A prime example of recursion is computing factorials... such that 5! (factorial) is 5*4*3*2*1 which equals 120.</p>"
   ]
  },
  {
   "cell_type": "markdown",
   "metadata": {},
   "source": [
    "#### Implementing a Base Case"
   ]
  },
  {
   "cell_type": "code",
   "execution_count": 4,
   "metadata": {},
   "outputs": [
    {
     "name": "stdout",
     "output_type": "stream",
     "text": [
      "sum1toN(5) = 5 + sum1toN(4)\n",
      "sum1toN(4) = 4 + sum1toN(3)\n",
      "sum1toN(3) = 3 + sum1toN(2)\n",
      "sum1toN(2) = 2 + sum1toN(1)\n",
      "sum1toN(1) = 1\n"
     ]
    },
    {
     "data": {
      "text/plain": [
       "15"
      ]
     },
     "execution_count": 4,
     "metadata": {},
     "output_type": "execute_result"
    }
   ],
   "source": [
    "# sum of all numbers between 1 and n\n",
    "# where n is the input given to my function \n",
    "# f(n) = n + n-1 + n-2 + ... + 2 + 1\n",
    "# f(n-1) = n-1 + n-2 + ... + 2 + 1\n",
    "# in other words .... we can rewrite f(n) as\n",
    "# f(n) = n + f(n-1)\n",
    "# f(1) = 1\n",
    "\n",
    "# by rewriting some equation or some process as depending on a modified version of itself\n",
    "# aka f(n) can be written as dependent of f(n-a)\n",
    "# and finding a \"base case\" or endpoint for this same function\n",
    "# aka f(1) = 1\n",
    "# we can set up a funtion which returns that modified version of itself, thus kickin off a series of function calls\n",
    "# until we reach the base case\n",
    "\n",
    "def sum1toN(n):\n",
    "    # base case\n",
    "    if n == 1:\n",
    "        print(\"sum1toN(1) = 1\")\n",
    "        return 1\n",
    "    else:\n",
    "        print(f\"sum1toN({n}) = {n} + sum1toN({n-1})\")\n",
    "        return n + sum1toN(n-1) # recursive call\n",
    "sum1toN(5)"
   ]
  },
  {
   "cell_type": "markdown",
   "metadata": {},
   "source": [
    "#### Writing a Factorial Function"
   ]
  },
  {
   "cell_type": "code",
   "execution_count": 5,
   "metadata": {},
   "outputs": [
    {
     "name": "stdout",
     "output_type": "stream",
     "text": [
      "120\n",
      "120\n"
     ]
    }
   ],
   "source": [
    "# x! = x*x-1*x-2.......*2*1\n",
    "def factorial(n):\n",
    "    if n == 1:\n",
    "        return 1\n",
    "    else:\n",
    "        return n * factorial(n-1)\n",
    "print(factorial(5))\n",
    "print(5*4*3*2*1)"
   ]
  },
  {
   "cell_type": "markdown",
   "metadata": {},
   "source": [
    "#### In-Class Exercise #5 <br>\n",
    "<p>Write a recursive function that subtracts all numbers to the argument given.</p>"
   ]
  },
  {
   "cell_type": "code",
   "execution_count": 39,
   "metadata": {},
   "outputs": [
    {
     "name": "stdout",
     "output_type": "stream",
     "text": [
      "3\n"
     ]
    }
   ],
   "source": [
    "# Optional - play around with this if you want\n",
    "# Will not behave in the exact way I originally expected due to the way the 'easy' recursive call impacts the answer\n",
    "# doesn't do f(5) != 5-4-3-2-1\n",
    "\n",
    "def sub_Nums(n):\n",
    "    if n == 1:\n",
    "        return 1\n",
    "    else:\n",
    "        return n - sub_Nums(n-1)\n",
    "print(sub_Nums(5))"
   ]
  },
  {
   "cell_type": "markdown",
   "metadata": {},
   "source": [
    "## Generators <br>\n",
    "<p>Generators are a type of iterable, like lists or tuples. They do not allow indexing, but they can still be iterated through with for loops. They are created using functions and the yield statement.</p>"
   ]
  },
  {
   "cell_type": "markdown",
   "metadata": {},
   "source": [
    "#### Yield Keyword <br>\n",
    "<p>The yield keyword denotes a generator, it doesn't return so it won't leave the function and reset all variables in the function scope, instead it yields the number back to the caller.</p>"
   ]
  },
  {
   "cell_type": "code",
   "execution_count": 14,
   "metadata": {},
   "outputs": [
    {
     "name": "stdout",
     "output_type": "stream",
     "text": [
      "<generator object my_range at 0x7f81dfbb3190>\n",
      "0\n",
      "7\n",
      "14\n",
      "21\n",
      "28\n",
      "35\n",
      "42\n",
      "49\n",
      "56\n",
      "63\n",
      "70\n",
      "77\n",
      "84\n",
      "91\n",
      "98\n",
      "105\n",
      "112\n",
      "119\n",
      "126\n",
      "133\n",
      "140\n",
      "147\n"
     ]
    }
   ],
   "source": [
    "def my_range(start, stop, step=1):\n",
    "    while start<stop:\n",
    "        yield start # denotes/defines a generator\n",
    "        start += step\n",
    "print(my_range(0,10))\n",
    "for i in my_range(0, 150, 7):\n",
    "    print(i)"
   ]
  },
  {
   "cell_type": "markdown",
   "metadata": {},
   "source": [
    "#### Infinite Generator"
   ]
  },
  {
   "cell_type": "code",
   "execution_count": null,
   "metadata": {},
   "outputs": [],
   "source": [
    "# bad, never create infinite loops\n",
    "# my_range is a simplified version of the range function, if i provide a negative step, I will create an infinite generator\n",
    "\n",
    "# negative step means the generator's while loop never ends means theres always another step of the iteration to do\n",
    "# another step of the calculation to do as well"
   ]
  },
  {
   "cell_type": "markdown",
   "metadata": {},
   "source": [
    "#### In-Class Exercise #6 <br>\n",
    "<p>Create a generator that takes a number argument and yields that number squared, then prints each number squared until zero is reached.</p>"
   ]
  },
  {
   "cell_type": "code",
   "execution_count": 34,
   "metadata": {},
   "outputs": [
    {
     "name": "stdout",
     "output_type": "stream",
     "text": [
      "100\n",
      "81\n",
      "64\n",
      "49\n",
      "36\n",
      "25\n",
      "16\n",
      "9\n",
      "4\n",
      "1\n",
      "0\n"
     ]
    }
   ],
   "source": [
    "def my_squares(start, stop ,step=1):\n",
    "    while start > stop:\n",
    "        yield start\n",
    "        start += step\n",
    "\n",
    "for i in my_squares(-10, 1, 1):\n",
    "    i = i**2\n",
    "    print(i)\n",
    "        \n",
    "\n",
    "    "
   ]
  },
  {
   "cell_type": "markdown",
   "metadata": {},
   "source": [
    "# Exercises"
   ]
  },
  {
   "cell_type": "markdown",
   "metadata": {},
   "source": [
    "### Exercise #1 <br>\n",
    "<p>Filter out all of the empty strings from the list below</p>\n",
    "\n",
    "`Output: ['Argentina', 'San Diego', 'Boston', 'New York']`"
   ]
  },
  {
   "cell_type": "code",
   "execution_count": 7,
   "metadata": {},
   "outputs": [
    {
     "name": "stdout",
     "output_type": "stream",
     "text": [
      "['Argentina', 'San Diego', 'Boston', 'New York']\n"
     ]
    }
   ],
   "source": [
    "places = [\" \",\"Argentina\", \" \", \"San Diego\",\"\",\"  \",\"\",\"Boston\",\"New York\"]\n",
    "\n",
    "\n",
    "filter_places = list(filter(lambda place: place.strip(), places))\n",
    "\n",
    "print(filter_places)\n"
   ]
  },
  {
   "cell_type": "markdown",
   "metadata": {},
   "source": [
    "### Exercise #2 <br>\n",
    "<p>Write an anonymous function that sorts this list by the last name...<br><b>Hint: Use the \".sort()\" method and access the key\"</b></p>\n",
    "\n",
    "`Output: ['Victor aNisimov', 'Gary A.J. Bernstein', 'Joel Carter', 'Andrew P. Garfield', 'David hassELHOFF']`"
   ]
  },
  {
   "cell_type": "code",
   "execution_count": 12,
   "metadata": {},
   "outputs": [
    {
     "data": {
      "text/plain": [
       "['Gary A.J. Bernstein',\n",
       " 'Joel Carter',\n",
       " 'Andrew P. Garfield',\n",
       " 'Victor aNisimov',\n",
       " 'David hassELHOFF']"
      ]
     },
     "execution_count": 12,
     "metadata": {},
     "output_type": "execute_result"
    }
   ],
   "source": [
    "author = [\"Joel Carter\", \"Victor aNisimov\", \"Andrew P. Garfield\",\"David hassELHOFF\",\"Gary A.J. Bernstein\"]\n",
    "\n",
    "# .sort() or sorted() with a Lambda function for the key parameter\n",
    "\n",
    "def last_name(author):\n",
    "    author.sort(key=lambda x: x.split()[-1])\n",
    "    return author\n",
    "\n",
    "last_name(author)"
   ]
  },
  {
   "cell_type": "markdown",
   "metadata": {},
   "source": [
    "### Exercise #3 <br>\n",
    "<p>Convert the list below from Celsius to Farhenheit, using the map function with a lambda...</p>\n",
    "\n",
    "`Output: [('Nashua', 89.6), ('Boston', 53.6), ('Los Angelos', 111.2), ('Miami', 84.2)]\n",
    "`"
   ]
  },
  {
   "cell_type": "code",
   "execution_count": 22,
   "metadata": {},
   "outputs": [
    {
     "name": "stdout",
     "output_type": "stream",
     "text": [
      "[89.6, 53.6, 111.2, 84.2]\n"
     ]
    }
   ],
   "source": [
    "# F = (9/5)*C + 32\n",
    "places = [('Nashua',32),(\"Boston\",12),(\"Los Angelos\",44),(\"Miami\",29)]\n",
    "\n",
    "celcius = lambda y: y[1] *(9/5) + 32\n",
    "c_places = list(map(celcius, places))\n",
    "print(c_places)\n"
   ]
  },
  {
   "cell_type": "markdown",
   "metadata": {},
   "source": [
    "### Exercise #4 <br>\n",
    "<p>Write a recursion function to perform the fibonacci sequence up to the number passed in.</p>\n",
    "\n",
    "`Output for fib(5) => \n",
    "Iteration 0: 1\n",
    "Iteration 1: 1\n",
    "Iteration 2: 2\n",
    "Iteration 3: 3\n",
    "Iteration 4: 5\n",
    "Iteration 5: 8`"
   ]
  },
  {
   "cell_type": "code",
   "execution_count": null,
   "metadata": {
    "scrolled": true
   },
   "outputs": [],
   "source": [
    "# example of recursion similar to our previous examples\n",
    "# 1, 1, 2, 3, 5, 8, 13, fib(n-1) + fib(n-2)\n",
    "# fib(1): 1\n",
    "# fib(2): 1\n",
    "# fib(3): 2\n",
    "# fib(4): 3\n",
    "# fib(5): 5\n",
    "# fib(6): 8\n",
    "# the next number in the fibonnaci is the sum of the two previous numbers\n",
    "\n",
    "\n",
    "# input x: step num of the fibonnaci sequence to produce the returned number\n",
    "def fib(x):\n",
    "    if  x <= 2:\n",
    "        return 1 # base case\n",
    "    else:\n",
    "        return fib(x-1) + fib(x-2) # recursive calls\n",
    "\n",
    "fib(4)"
   ]
  },
  {
   "cell_type": "code",
   "execution_count": 8,
   "metadata": {},
   "outputs": [
    {
     "data": {
      "text/plain": [
       "354224848179261915075"
      ]
     },
     "execution_count": 8,
     "metadata": {},
     "output_type": "execute_result"
    }
   ],
   "source": [
    "# Let's introduce the idea of caching\n",
    "# caching is essentially telling our computer to store some of the answers of processes we think it may need to repeat frequently\n",
    "# caching is used all over the place in modern computing\n",
    "# we cache - locally storing some frequently visited website components for faster loading\n",
    "# search engines will cache results for frequently run searches rather than repeating the search every single time\n",
    "\n",
    "# we can also use the concept with our recursion\n",
    "\n",
    "from functools import lru_cache\n",
    "\n",
    "# Lru_cache is a decorator\n",
    "    # a decorator is essentially a special type of function\n",
    "    # a decorator is a function designed to wrap another function\n",
    "    # it provides a change in the behavior or additonal functionality fo the decorated function\n",
    "    \n",
    "# @ decorator_name(parameters)\n",
    "# def normalFunc():\n",
    "\n",
    "# parameter here is the maxsize of the last recently used cache\n",
    "@lru_cache(4)\n",
    "def fib(x):\n",
    "    if x <= 2:\n",
    "        return 1\n",
    "    else:\n",
    "        return fib(x-1) + fib(x-2)\n",
    "    \n",
    "fib(100)"
   ]
  },
  {
   "cell_type": "code",
   "execution_count": null,
   "metadata": {},
   "outputs": [],
   "source": []
  }
 ],
 "metadata": {
  "kernelspec": {
   "display_name": "Python 3 (ipykernel)",
   "language": "python",
   "name": "python3"
  },
  "language_info": {
   "codemirror_mode": {
    "name": "ipython",
    "version": 3
   },
   "file_extension": ".py",
   "mimetype": "text/x-python",
   "name": "python",
   "nbconvert_exporter": "python",
   "pygments_lexer": "ipython3",
   "version": "3.9.7"
  }
 },
 "nbformat": 4,
 "nbformat_minor": 2
}
